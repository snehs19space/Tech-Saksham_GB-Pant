{
  "nbformat": 4,
  "nbformat_minor": 0,
  "metadata": {
    "colab": {
      "provenance": [],
      "authorship_tag": "ABX9TyMd5xNu18f2mGkJUEte9Pnr",
      "include_colab_link": true
    },
    "kernelspec": {
      "name": "python3",
      "display_name": "Python 3"
    },
    "language_info": {
      "name": "python"
    }
  },
  "cells": [
    {
      "cell_type": "markdown",
      "metadata": {
        "id": "view-in-github",
        "colab_type": "text"
      },
      "source": [
        "<a href=\"https://colab.research.google.com/github/snehs19space/Tech-Saksham_GB-Pant/blob/main/SelfPractice1.ipynb\" target=\"_parent\"><img src=\"https://colab.research.google.com/assets/colab-badge.svg\" alt=\"Open In Colab\"/></a>"
      ]
    },
    {
      "cell_type": "markdown",
      "source": [
        "## Self Practice - 1"
      ],
      "metadata": {
        "id": "ubcZNocIs0AN"
      }
    },
    {
      "cell_type": "code",
      "execution_count": 4,
      "metadata": {
        "colab": {
          "base_uri": "https://localhost:8080/"
        },
        "cellView": "form",
        "id": "MEWLfRLDsu3E",
        "outputId": "794201a8-8cac-4dad-ee1d-5a0069c328c8"
      },
      "outputs": [
        {
          "output_type": "stream",
          "name": "stdout",
          "text": [
            "The sum of 1.5 and 6.3 is 7.8\n"
          ]
        }
      ],
      "source": [
        "# @title Problem 1: Write a sample python program to add two numbers.\n",
        "num1 = 1.5\n",
        "num2 = 6.3\n",
        "sum = num1 + num2\n",
        "print('The sum of {0} and {1} is {2}'.format(num1, num2, sum))"
      ]
    },
    {
      "cell_type": "code",
      "source": [
        "# @title Problem 2: Write a sample python program to convert Kilometers to Miles.\n",
        "kilometers = float(input(\"Enter value in kilometers: \"))\n",
        "conv_fac = 0.621371\n",
        "miles = kilometers * conv_fac\n",
        "print('%0.2f kilometers is equal to %0.2f miles' %(kilometers,miles))"
      ],
      "metadata": {
        "colab": {
          "base_uri": "https://localhost:8080/"
        },
        "cellView": "form",
        "id": "d_Z5DuqotmFn",
        "outputId": "8a728120-0f3e-4e46-dd40-a9c3ae4a2ff8"
      },
      "execution_count": 5,
      "outputs": [
        {
          "output_type": "stream",
          "name": "stdout",
          "text": [
            "Enter value in kilometers: 4\n",
            "4.00 kilometers is equal to 2.49 miles\n"
          ]
        }
      ]
    },
    {
      "cell_type": "code",
      "source": [
        "# @title Problem 3: Write a python program to find the Square Root of a number.\n",
        "num = float(input('Enter a number: '))\n",
        "num_sqrt = num ** 0.5\n",
        "print('The square root of %0.3f is %0.3f'%(num ,num_sqrt))"
      ],
      "metadata": {
        "colab": {
          "base_uri": "https://localhost:8080/"
        },
        "cellView": "form",
        "id": "1NiYDYnjtpPL",
        "outputId": "e1477265-d169-4c2e-b879-ee136d8b1291"
      },
      "execution_count": 6,
      "outputs": [
        {
          "output_type": "stream",
          "name": "stdout",
          "text": [
            "Enter a number: 4\n",
            "The square root of 4.000 is 2.000\n"
          ]
        }
      ]
    }
  ]
}