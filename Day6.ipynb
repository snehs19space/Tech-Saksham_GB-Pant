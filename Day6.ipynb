{
  "nbformat": 4,
  "nbformat_minor": 0,
  "metadata": {
    "colab": {
      "provenance": [],
      "authorship_tag": "ABX9TyOIBZf8RhOxsYscxEvd5wp1",
      "include_colab_link": true
    },
    "kernelspec": {
      "name": "python3",
      "display_name": "Python 3"
    },
    "language_info": {
      "name": "python"
    }
  },
  "cells": [
    {
      "cell_type": "markdown",
      "metadata": {
        "id": "view-in-github",
        "colab_type": "text"
      },
      "source": [
        "<a href=\"https://colab.research.google.com/github/snehs19space/Tech-Saksham_GB-Pant/blob/main/Day6.ipynb\" target=\"_parent\"><img src=\"https://colab.research.google.com/assets/colab-badge.svg\" alt=\"Open In Colab\"/></a>"
      ]
    },
    {
      "cell_type": "markdown",
      "source": [
        "### Classes and Objects in Python"
      ],
      "metadata": {
        "id": "Pemq9LoSCJZj"
      }
    },
    {
      "cell_type": "code",
      "source": [
        "# @title Creating Class\n",
        "class Person:\n",
        "    def __init__(self, name, sex, profession):\n",
        "        self.name = name\n",
        "        self.sex = sex\n",
        "        self.profession = profession\n",
        "\n",
        "    def show(self):\n",
        "        print('Name:', self.name, '\\nSex:', self.sex, '\\nProfession:', self.profession)\n",
        "\n",
        "    def work(self):\n",
        "        print(self.name, 'is working as a', self.profession)\n",
        "\n",
        "print(\"Class Person is created successfully.\")"
      ],
      "metadata": {
        "colab": {
          "base_uri": "https://localhost:8080/"
        },
        "cellView": "form",
        "id": "YM0BuMChu8rx",
        "outputId": "cd014585-4741-46bf-9d54-685871afa669"
      },
      "execution_count": 7,
      "outputs": [
        {
          "output_type": "stream",
          "name": "stdout",
          "text": [
            "Class Person is created successfully.\n"
          ]
        }
      ]
    },
    {
      "cell_type": "code",
      "source": [
        "# @title Creating Object\n",
        "p1 = Person('Sanvi', 'F', 'Student')\n",
        "p1.show()\n",
        "p1.work()"
      ],
      "metadata": {
        "colab": {
          "base_uri": "https://localhost:8080/"
        },
        "cellView": "form",
        "id": "3FUpg2oLvTfs",
        "outputId": "6144bad2-23ae-4b51-d7ef-349c40d2de5d"
      },
      "execution_count": 8,
      "outputs": [
        {
          "output_type": "stream",
          "name": "stdout",
          "text": [
            "Name: Sanvi \n",
            "Sex: F \n",
            "Profession: Student\n",
            "Sanvi is working as a Student\n"
          ]
        }
      ]
    },
    {
      "cell_type": "code",
      "source": [
        "# @title Modify Object Properties\n",
        "class Person:\n",
        "  def __init__(self, name, age):\n",
        "    self.name = name\n",
        "    self.age = age\n",
        "\n",
        "  def myfunc(self):\n",
        "    print(\"Hello my name is \" + self.name)\n",
        "\n",
        "p1 = Person(\"Naveen\", 36)\n",
        "p1.age = 40\n",
        "print(p1.age)"
      ],
      "metadata": {
        "cellView": "form",
        "id": "dCgCk6pevsJM"
      },
      "execution_count": null,
      "outputs": []
    },
    {
      "cell_type": "code",
      "source": [
        "# @title Delete Object Properties\n",
        "class Person:\n",
        "  def __init__(self, name, age):\n",
        "    self.name = name\n",
        "    self.age = age\n",
        "\n",
        "  def myfunc(self):\n",
        "    print(\"Hello my name is \" + self.name)\n",
        "\n",
        "p1 = Person(\"Naveen\", 36)\n",
        "del p1.age\n",
        "try:\n",
        "    print(p1.age)\n",
        "except:\n",
        "  print(\"Object doesn't have age property!\")"
      ],
      "metadata": {
        "colab": {
          "base_uri": "https://localhost:8080/"
        },
        "cellView": "form",
        "id": "PyyRr1gRvuwE",
        "outputId": "d8928303-5777-4069-8cd8-a41e67c4879f"
      },
      "execution_count": 10,
      "outputs": [
        {
          "output_type": "stream",
          "name": "stdout",
          "text": [
            "Object doesn't have age property!\n"
          ]
        }
      ]
    },
    {
      "cell_type": "code",
      "source": [
        "# @title Delete Objects\n",
        "class Person:\n",
        "  def __init__(self, name, age):\n",
        "    self.name = name\n",
        "    self.age = age\n",
        "\n",
        "  def myfunc(self):\n",
        "    print(\"Hello my name is \" + self.name)\n",
        "\n",
        "p1 = Person(\"Naveen\", 36)\n",
        "del p1\n",
        "try:\n",
        "  print(p1)\n",
        "except:\n",
        "  print(\"Object is deleted!\")"
      ],
      "metadata": {
        "colab": {
          "base_uri": "https://localhost:8080/"
        },
        "cellView": "form",
        "id": "NUtGip7Evuz1",
        "outputId": "f0806ef8-531b-4f1e-b8a0-3fe746e33675"
      },
      "execution_count": 11,
      "outputs": [
        {
          "output_type": "stream",
          "name": "stdout",
          "text": [
            "Object is deleted!\n"
          ]
        }
      ]
    },
    {
      "cell_type": "markdown",
      "source": [
        "### Inheritance in Python"
      ],
      "metadata": {
        "id": "U6GJPNC6lP5P"
      }
    },
    {
      "cell_type": "code",
      "execution_count": null,
      "metadata": {
        "colab": {
          "base_uri": "https://localhost:8080/"
        },
        "cellView": "form",
        "id": "0-xF56hwlNgu",
        "outputId": "5d6bc619-be6d-4f20-d694-1ea456d6904d"
      },
      "outputs": [
        {
          "output_type": "stream",
          "name": "stdout",
          "text": [
            "Sanvi Sneh\n"
          ]
        }
      ],
      "source": [
        "# @title Single Inheritance\n",
        "class brand:\n",
        "  def __init__(self, fname, lname):\n",
        "    self.name_1=fname\n",
        "    self.name_2=lname\n",
        "  def display (self):\n",
        "    print (self.name_1, self.name_2)\n",
        "\n",
        "class model(brand):\n",
        "  def __init__ (self, fname, lname):\n",
        "    self.name_1=fname\n",
        "    self.name_2=lname\n",
        "\n",
        "p1=model (\"Sanvi\", \"Sneh\")\n",
        "p1.display()"
      ]
    },
    {
      "cell_type": "code",
      "execution_count": null,
      "metadata": {
        "colab": {
          "base_uri": "https://localhost:8080/"
        },
        "cellView": "form",
        "id": "_iUwcH8zlVA4",
        "outputId": "b53a6c52-6153-4147-9694-800562b67b22"
      },
      "outputs": [
        {
          "output_type": "stream",
          "name": "stdout",
          "text": [
            "Inside Info class\n",
            " Name: Sanvi \n",
            " Age: 20\n",
            "Inside Subject class\n",
            " Subject 1:  Python \n",
            " Subject 2: Java\n",
            "Inside College class\n",
            " College Name: GB Pant \n",
            " University: DSEU\n"
          ]
        }
      ],
      "source": [
        "# @title Multiple Inheritance\n",
        "class Info:\n",
        "    def info (self, name, age):\n",
        "        print(\"Inside Info class\")\n",
        "        print(' Name:', name, '\\n Age:', age)\n",
        "\n",
        "class Subject:\n",
        "    def sub (self, sub1, sub2):\n",
        "        print('Inside Subject class')\n",
        "        print(' Subject 1: ', sub1,'\\n Subject 2:', sub2)\n",
        "\n",
        "class College (Info, Subject):\n",
        "    def college(self, name, uni):\n",
        "        print('Inside College class')\n",
        "        print(' College Name:', name, '\\n University:', uni)\n",
        "\n",
        "clg = College ()\n",
        "clg.info ('Sanvi', 20)\n",
        "clg.sub ('Python', 'Java')\n",
        "clg.college('GB Pant','DSEU')"
      ]
    },
    {
      "cell_type": "code",
      "execution_count": null,
      "metadata": {
        "colab": {
          "base_uri": "https://localhost:8080/"
        },
        "cellView": "form",
        "id": "vt0fr9bhlVFA",
        "outputId": "a4921769-639f-45a6-efee-adf4e20098cf"
      },
      "outputs": [
        {
          "output_type": "stream",
          "name": "stdout",
          "text": [
            "Name: Sanvi\n",
            "Age: 20\n",
            "Student ID: 41522057\n",
            "Graduation: 2024\n"
          ]
        }
      ],
      "source": [
        "# @title Multilevel Inheritance\n",
        "class Person:\n",
        "    def __init__(self, name, age):\n",
        "        self.name = name\n",
        "        self.age = age\n",
        "    def person_info(self, name, age):\n",
        "        print(f\"Name: {self.name}\\nAge: {self.age}\")\n",
        "\n",
        "class Student(Person):\n",
        "    def __init__(self, name, age, sid):\n",
        "        super().__init__(name, age)\n",
        "        self.sid = sid\n",
        "    def student_info(self,sid):\n",
        "        print(f\"Student ID: {self.sid}\")\n",
        "\n",
        "class GraduateStudent(Student):\n",
        "    def __init__(self, name, age, sid, year):\n",
        "        super().__init__(name, age, sid)\n",
        "        self.year = year\n",
        "    def graduate_info(self, year):\n",
        "        print(f\"Graduation: {self.year}\")\n",
        "\n",
        "stu = GraduateStudent(\"Sanvi\", 20, 41522057,2024)\n",
        "stu.person_info(\"Sanvi\", 20)\n",
        "stu.student_info(41522057)\n",
        "stu.graduate_info(2024)"
      ]
    },
    {
      "cell_type": "code",
      "execution_count": null,
      "metadata": {
        "colab": {
          "base_uri": "https://localhost:8080/"
        },
        "cellView": "form",
        "id": "DY_hkwoMlVIX",
        "outputId": "6df69b98-9cc2-49d5-9f71-02c7cbdcecdd"
      },
      "outputs": [
        {
          "output_type": "stream",
          "name": "stdout",
          "text": [
            "This is Vehicle\n",
            "Car name is: BMW\n",
            "This is Vehicle\n",
            "Truck name is: Ford\n"
          ]
        }
      ],
      "source": [
        "# @title Hierarchical Inheritance\n",
        "class Vehicle:\n",
        "  def info (self):\n",
        "    print(\"This is Vehicle\")\n",
        "\n",
        "class Car (Vehicle):\n",
        "  def car_info(self, name):\n",
        "    print (\"Car name is:\", name)\n",
        "\n",
        "class Truck (Vehicle) :\n",
        "  def truck_info(self,name):\n",
        "    print(\"Truck name is:\", name)\n",
        "\n",
        "obj1 = Car ()\n",
        "obj1.info()\n",
        "obj1.car_info('BMW')\n",
        "obj2 = Truck ()\n",
        "obj2.info()\n",
        "obj2.truck_info('Ford')"
      ]
    },
    {
      "cell_type": "code",
      "execution_count": null,
      "metadata": {
        "colab": {
          "base_uri": "https://localhost:8080/"
        },
        "cellView": "form",
        "id": "u-XuqW3clVMH",
        "outputId": "8c86a23a-4a65-4b46-cafd-ef2788949f8e"
      },
      "outputs": [
        {
          "output_type": "stream",
          "name": "stdout",
          "text": [
            "Inside Vehicle class\n",
            "\n",
            "Inside Car class\n",
            "Inside Vehicle class\n",
            "\n",
            "Inside SportsCar class\n",
            "Inside Car class\n",
            "Inside Vehicle class\n",
            "\n"
          ]
        }
      ],
      "source": [
        "# @title Hybrid Inheritance\n",
        "class Vehicle:\n",
        "    def vehicle_info(self):\n",
        "        print(\"Inside Vehicle class\\n\")\n",
        "\n",
        "class Car(Vehicle):\n",
        "    def car_info(self):\n",
        "        print(\"Inside Car class\")\n",
        "        super().vehicle_info()\n",
        "\n",
        "class SportsCar(Car, Vehicle):\n",
        "    def sports_car_info(self):\n",
        "        print(\"Inside SportsCar class\")\n",
        "        super().car_info()\n",
        "\n",
        "s_car = SportsCar()\n",
        "s_car.vehicle_info()\n",
        "s_car.car_info()\n",
        "s_car.sports_car_info()"
      ]
    },
    {
      "cell_type": "code",
      "execution_count": null,
      "metadata": {
        "colab": {
          "base_uri": "https://localhost:8080/"
        },
        "cellView": "form",
        "id": "oUqHEUR6lVOv",
        "outputId": "5b7010be-1db4-42db-9d00-3487219c216b"
      },
      "outputs": [
        {
          "output_type": "stream",
          "name": "stdout",
          "text": [
            "Max Speed of Vehicle is 100 km/hr.\n",
            "Max Speed of Car is 200 km/hr.\n"
          ]
        }
      ],
      "source": [
        "# @title Method Overloading\n",
        "class Vehicle:\n",
        "    def max_speed(self):\n",
        "        print(\"Max Speed of Vehicle is 100 km/hr.\")\n",
        "\n",
        "class Car(Vehicle):\n",
        "    def max_speed(self):\n",
        "        print(\"Max Speed of Car is 200 km/hr.\")\n",
        "\n",
        "vh = Vehicle()\n",
        "vh.max_speed()\n",
        "car = Car()\n",
        "car.max_speed()"
      ]
    },
    {
      "cell_type": "markdown",
      "source": [
        "### Encapsulation in Python"
      ],
      "metadata": {
        "id": "REAwYZIMCDyQ"
      }
    },
    {
      "cell_type": "code",
      "execution_count": null,
      "metadata": {
        "colab": {
          "base_uri": "https://localhost:8080/"
        },
        "cellView": "form",
        "id": "mxD4KPCzlVRe",
        "outputId": "32339468-4644-499f-f54c-62822ddd1040"
      },
      "outputs": [
        {
          "output_type": "stream",
          "name": "stdout",
          "text": [
            "Name:  Sanvi \n",
            "Salary: 800000\n",
            "Sanvi is working on NLP.\n"
          ]
        }
      ],
      "source": [
        "# @title Public Members\n",
        "class Employee:\n",
        "    def __init__(self, name, salary, project):\n",
        "        self.name = name\n",
        "        self.salary = salary\n",
        "        self.project = project\n",
        "\n",
        "    def show(self):\n",
        "        print(\"Name: \", self.name, '\\nSalary:', self.salary)\n",
        "\n",
        "    def work(self):\n",
        "        print(self.name, 'is working on', self.project)\n",
        "\n",
        "emp = Employee('Sanvi', 800000, 'NLP.')\n",
        "emp.show()\n",
        "emp.work()"
      ]
    },
    {
      "cell_type": "code",
      "execution_count": null,
      "metadata": {
        "colab": {
          "base_uri": "https://localhost:8080/"
        },
        "cellView": "form",
        "id": "IsBKxZlmlVVe",
        "outputId": "6a022ee4-1ea8-4868-fede-82658724c052"
      },
      "outputs": [
        {
          "output_type": "stream",
          "name": "stdout",
          "text": [
            "Name: Sanvi\n",
            "Salary: 1000000\n"
          ]
        }
      ],
      "source": [
        "# @title Private Members\n",
        "class Employee:\n",
        "    def __init__(self, name, salary):\n",
        "        self.name = name\n",
        "        self.__salary = salary\n",
        "\n",
        "emp = Employee('Sanvi', 1000000)\n",
        "print('Name:', emp.name)\n",
        "print('Salary:', emp._Employee__salary)"
      ]
    },
    {
      "cell_type": "code",
      "execution_count": 14,
      "metadata": {
        "id": "yAqa2xl-lVYa",
        "colab": {
          "base_uri": "https://localhost:8080/"
        },
        "cellView": "form",
        "outputId": "bc5b0a61-befc-4057-ec77-876eb675483c"
      },
      "outputs": [
        {
          "output_type": "stream",
          "name": "stdout",
          "text": [
            "Employee name : Sanvi Sneh\n",
            "Working on project : NLP\n",
            "Accessing Project Name from outside the class: NLP\n"
          ]
        }
      ],
      "source": [
        "# @title Protected Members\n",
        "class Company:\n",
        "    def __init__(self):\n",
        "        self._project = \"NLP\"\n",
        "\n",
        "class Employee(Company):\n",
        "    def __init__(self, name):\n",
        "        self.name = name\n",
        "        Company.__init__(self)\n",
        "\n",
        "    def show(self):\n",
        "        print(\"Employee name :\", self.name)\n",
        "        print(\"Working on project :\", self._project)\n",
        "\n",
        "c = Employee(\"Sanvi Sneh\")\n",
        "c.show()\n",
        "print('Accessing Project Name from outside the class:', c._project)"
      ]
    },
    {
      "cell_type": "markdown",
      "source": [
        "### Polymorphism in Python"
      ],
      "metadata": {
        "id": "UK4gin4OxT-f"
      }
    },
    {
      "cell_type": "code",
      "execution_count": 15,
      "metadata": {
        "id": "TP4fSz-klVbL",
        "colab": {
          "base_uri": "https://localhost:8080/"
        },
        "cellView": "form",
        "outputId": "06d18a65-3790-42d6-b79c-5ec210f39604"
      },
      "outputs": [
        {
          "output_type": "stream",
          "name": "stdout",
          "text": [
            "5\n",
            "9\n"
          ]
        }
      ],
      "source": [
        "# @title Polymorphic Functions\n",
        "def add(x, y, z = 0):\n",
        "\treturn x + y+z\n",
        "\n",
        "print(add(2, 3))\n",
        "print(add(2, 3, 4))"
      ]
    },
    {
      "cell_type": "code",
      "execution_count": 20,
      "metadata": {
        "id": "S7yFs1lplVfX",
        "colab": {
          "base_uri": "https://localhost:8080/"
        },
        "cellView": "form",
        "outputId": "a57b7ffd-a5c4-487a-8595-e4644ca74fe0"
      },
      "outputs": [
        {
          "output_type": "stream",
          "name": "stdout",
          "text": [
            "New Delhi is the capital of India.\n",
            "Hindi is the most widely spoken language of India.\n",
            "India is a developing country.\n",
            "\n",
            "Washington, D.C. is the capital of USA.\n",
            "English is the primary language of USA.\n",
            "USA is a developed country.\n",
            "\n"
          ]
        }
      ],
      "source": [
        "# @title Polymorphism in class methods\n",
        "class India():\n",
        "\tdef capital(self):\n",
        "\t\tprint(\"New Delhi is the capital of India.\")\n",
        "\n",
        "\tdef language(self):\n",
        "\t\tprint(\"Hindi is the most widely spoken language of India.\")\n",
        "\n",
        "\tdef type(self):\n",
        "\t\tprint(\"India is a developing country.\")\n",
        "\n",
        "class USA():\n",
        "\tdef capital(self):\n",
        "\t\tprint(\"Washington, D.C. is the capital of USA.\")\n",
        "\n",
        "\tdef language(self):\n",
        "\t\tprint(\"English is the primary language of USA.\")\n",
        "\n",
        "\tdef type(self):\n",
        "\t\tprint(\"USA is a developed country.\")\n",
        "\n",
        "obj_ind = India()\n",
        "obj_usa = USA()\n",
        "for country in (obj_ind, obj_usa):\n",
        "  country.capital()\n",
        "  country.language()\n",
        "  country.type()\n",
        "  print()"
      ]
    },
    {
      "cell_type": "code",
      "execution_count": 22,
      "metadata": {
        "id": "Feav4sUKlViN",
        "colab": {
          "base_uri": "https://localhost:8080/"
        },
        "cellView": "form",
        "outputId": "8988fd4f-3bd3-48c5-82cb-8fd5b056d316"
      },
      "outputs": [
        {
          "output_type": "stream",
          "name": "stdout",
          "text": [
            "There are many types of birds.\n",
            "Most of the birds can fly but some cannot.\n",
            "\n",
            "There are many types of birds.\n",
            "Sparrows can fly.\n",
            "\n",
            "There are many types of birds.\n",
            "Ostriches cannot fly.\n"
          ]
        }
      ],
      "source": [
        "# @title Polymorphism with Inheritance\n",
        "class Bird:\n",
        "  def intro(self):\n",
        "    print(\"There are many types of birds.\")\n",
        "  def flight(self):\n",
        "    print(\"Most of the birds can fly but some cannot.\\n\")\n",
        "\n",
        "class sparrow(Bird):\n",
        "    def flight(self):\n",
        "    \tprint(\"Sparrows can fly.\\n\")\n",
        "\n",
        "class ostrich(Bird):\n",
        "    def flight(self):\n",
        "    \tprint(\"Ostriches cannot fly.\")\n",
        "\n",
        "obj_bird = Bird()\n",
        "obj_spr = sparrow()\n",
        "obj_ost = ostrich()\n",
        "\n",
        "obj_bird.intro()\n",
        "obj_bird.flight()\n",
        "obj_spr.intro()\n",
        "obj_spr.flight()\n",
        "obj_ost.intro()\n",
        "obj_ost.flight()"
      ]
    },
    {
      "cell_type": "code",
      "source": [
        "# @title Operator Overloading\n",
        "print(1 + 2)\n",
        "print(\"Edunet\"+\"Foundation\\n\")\n",
        "\n",
        "print(3 * 4)\n",
        "print(\"Pranav\"*4)"
      ],
      "metadata": {
        "colab": {
          "base_uri": "https://localhost:8080/"
        },
        "cellView": "form",
        "id": "C8-glx_czW7u",
        "outputId": "d0c82822-90d0-4753-c99d-a9fb3c17bb5e"
      },
      "execution_count": 24,
      "outputs": [
        {
          "output_type": "stream",
          "name": "stdout",
          "text": [
            "3\n",
            "EdunetFoundation\n",
            "\n",
            "12\n",
            "PranavPranavPranavPranav\n"
          ]
        }
      ]
    },
    {
      "cell_type": "code",
      "source": [
        "# @title Method Overloading\n",
        "def product(a, b):\n",
        "\tp = a * b\n",
        "\tprint(p)\n",
        "\n",
        "def product(a, b, c):\n",
        "\tp = a * b*c\n",
        "\tprint(p)\n",
        "\n",
        "try:\n",
        "  product(4, 5)\n",
        "except:\n",
        "  print(\"Method Overloading Error!\")\n",
        "  print(\"Method product is overwritten that has 3 parameters rather than 2 parametes.\\n\")\n",
        "product(4, 5, 5)"
      ],
      "metadata": {
        "colab": {
          "base_uri": "https://localhost:8080/"
        },
        "cellView": "form",
        "id": "Z-a8u1utzp77",
        "outputId": "b88b8369-ec40-4b4d-f86e-91ea586aec91"
      },
      "execution_count": 29,
      "outputs": [
        {
          "output_type": "stream",
          "name": "stdout",
          "text": [
            "Method Overloading Error!\n",
            "Method product is overwritten that has 3 parameters rather than 2 parametes.\n",
            "\n",
            "100\n"
          ]
        }
      ]
    }
  ]
}