{
  "nbformat": 4,
  "nbformat_minor": 0,
  "metadata": {
    "colab": {
      "provenance": [],
      "authorship_tag": "ABX9TyNeh2mvbyBudEctw0JrRHo6",
      "include_colab_link": true
    },
    "kernelspec": {
      "name": "python3",
      "display_name": "Python 3"
    },
    "language_info": {
      "name": "python"
    }
  },
  "cells": [
    {
      "cell_type": "markdown",
      "metadata": {
        "id": "view-in-github",
        "colab_type": "text"
      },
      "source": [
        "<a href=\"https://colab.research.google.com/github/snehs19space/Tech-Saksham_GB-Pant/blob/main/Day3.ipynb\" target=\"_parent\"><img src=\"https://colab.research.google.com/assets/colab-badge.svg\" alt=\"Open In Colab\"/></a>"
      ]
    },
    {
      "cell_type": "markdown",
      "source": [
        "### Python Variables"
      ],
      "metadata": {
        "id": "cv_aPwKKgwLY"
      }
    },
    {
      "cell_type": "code",
      "source": [
        "# @title Creating Variables\n",
        "x = 5\n",
        "y = \"John\"\n",
        "print(x)\n",
        "print(y)"
      ],
      "metadata": {
        "cellView": "form",
        "id": "hcRMeBf5g0bF",
        "outputId": "b57a7449-3f55-45ef-95be-334b22217248",
        "colab": {
          "base_uri": "https://localhost:8080/"
        }
      },
      "execution_count": 10,
      "outputs": [
        {
          "output_type": "stream",
          "name": "stdout",
          "text": [
            "5\n",
            "John\n"
          ]
        }
      ]
    },
    {
      "cell_type": "code",
      "source": [
        "# @title Type Casting in Python\n",
        "x = str(3)\n",
        "y = int(3)\n",
        "z = float(3)\n",
        "print(type(x))\n",
        "print(type(y))\n",
        "print(type(z))"
      ],
      "metadata": {
        "id": "zCVQiVeCewDZ",
        "cellView": "form",
        "outputId": "4efe5405-546d-4a2e-b88f-6462ad27249d",
        "colab": {
          "base_uri": "https://localhost:8080/"
        }
      },
      "execution_count": 11,
      "outputs": [
        {
          "output_type": "stream",
          "name": "stdout",
          "text": [
            "<class 'str'>\n",
            "<class 'int'>\n",
            "<class 'float'>\n"
          ]
        }
      ]
    },
    {
      "cell_type": "code",
      "source": [
        "# @title Global Variables\n",
        "def myfunc():\n",
        "  global x\n",
        "  x = \"great.\"\n",
        "myfunc()\n",
        "print(\"Python is \" + x)"
      ],
      "metadata": {
        "cellView": "form",
        "id": "6y-ms2dphEKH",
        "outputId": "ec0c4844-acd9-4388-db64-ccb3bce1e17c",
        "colab": {
          "base_uri": "https://localhost:8080/"
        }
      },
      "execution_count": 12,
      "outputs": [
        {
          "output_type": "stream",
          "name": "stdout",
          "text": [
            "Python is great.\n"
          ]
        }
      ]
    },
    {
      "cell_type": "markdown",
      "source": [
        "### Python​ Data Types"
      ],
      "metadata": {
        "id": "LcMnypnTh1Bb"
      }
    },
    {
      "cell_type": "code",
      "source": [
        "# @title Getting the Data Type\n",
        "a = \"Hello World\"\n",
        "b = 20\n",
        "c = 20.5\n",
        "d = [\"apple\", \"banana\", \"cherry\"]\n",
        "e = (\"apple\", \"banana\", \"cherry\")\n",
        "f = True\n",
        "print(type(a))\n",
        "print(type(b))\n",
        "print(type(c))\n",
        "print(type(d))\n",
        "print(type(e))\n",
        "print(type(f))"
      ],
      "metadata": {
        "id": "E6XYAVc-ewJj",
        "cellView": "form",
        "outputId": "0ee4400c-b86b-4311-b3ae-6d73687371f8",
        "colab": {
          "base_uri": "https://localhost:8080/"
        }
      },
      "execution_count": 25,
      "outputs": [
        {
          "output_type": "stream",
          "name": "stdout",
          "text": [
            "<class 'str'>\n",
            "<class 'int'>\n",
            "<class 'float'>\n",
            "<class 'list'>\n",
            "<class 'tuple'>\n",
            "<class 'bool'>\n"
          ]
        }
      ]
    },
    {
      "cell_type": "code",
      "source": [
        "# @title Python Numbers Data Types\n",
        "x = 1\n",
        "y = 2.8\n",
        "z = 1j+10\n",
        "print(type(x))\n",
        "print(type(y))\n",
        "print(type(z))"
      ],
      "metadata": {
        "cellView": "form",
        "id": "oOefwpHMh6Yi",
        "outputId": "556a2e9d-6daf-490e-fb0a-f432174386b7",
        "colab": {
          "base_uri": "https://localhost:8080/"
        }
      },
      "execution_count": 26,
      "outputs": [
        {
          "output_type": "stream",
          "name": "stdout",
          "text": [
            "<class 'int'>\n",
            "<class 'float'>\n",
            "<class 'complex'>\n"
          ]
        }
      ]
    },
    {
      "cell_type": "code",
      "source": [
        "# @title Python Sequence Data Types\n",
        "li=[1,2,'mango', \"R\", 5,True, 3+2j]\n",
        "tup=(1,2,'mango', \"R\", 5,True, 3+2j)\n",
        "dict={1:'one', 2:'two',3:'Three'}\n",
        "set={'a','b','c','d','e','f'}\n",
        "print(type(li))\n",
        "print(type(tup))\n",
        "print(type(dict))\n",
        "print(type(set))"
      ],
      "metadata": {
        "cellView": "form",
        "id": "vwk9EWtSh6b7",
        "outputId": "e0dce599-f15c-4007-b438-e9296d8cdb50",
        "colab": {
          "base_uri": "https://localhost:8080/"
        }
      },
      "execution_count": 27,
      "outputs": [
        {
          "output_type": "stream",
          "name": "stdout",
          "text": [
            "<class 'list'>\n",
            "<class 'tuple'>\n",
            "<class 'dict'>\n",
            "<class 'set'>\n"
          ]
        }
      ]
    },
    {
      "cell_type": "code",
      "source": [
        "# @title Python Special Data Types\n",
        "a=True\n",
        "b=False\n",
        "c=None\n",
        "print(type(a))\n",
        "print(type(b))\n",
        "print(type(c))"
      ],
      "metadata": {
        "cellView": "form",
        "id": "jJxs3sHIh5iU",
        "outputId": "d760e45e-46a3-475e-c334-baf9b963e47d",
        "colab": {
          "base_uri": "https://localhost:8080/"
        }
      },
      "execution_count": 28,
      "outputs": [
        {
          "output_type": "stream",
          "name": "stdout",
          "text": [
            "<class 'bool'>\n",
            "<class 'bool'>\n",
            "<class 'NoneType'>\n"
          ]
        }
      ]
    },
    {
      "cell_type": "code",
      "source": [
        "# @title Type Conversion in Python\n",
        "x = 1\n",
        "y = 2.8\n",
        "\n",
        "a = float(x)\n",
        "b = int(y)\n",
        "c = complex(x)\n",
        "\n",
        "print(a)\n",
        "print(b)\n",
        "print(c)\n",
        "\n",
        "print(type(x),\" -> \",type(a))\n",
        "print(type(y),\" -> \",type(b))\n",
        "print(type(x),\" -> \",type(c))"
      ],
      "metadata": {
        "cellView": "form",
        "id": "WfOncEhriqmE",
        "outputId": "0841c7f8-39ac-44a5-8eec-69058c469940",
        "colab": {
          "base_uri": "https://localhost:8080/"
        }
      },
      "execution_count": 29,
      "outputs": [
        {
          "output_type": "stream",
          "name": "stdout",
          "text": [
            "1.0\n",
            "2\n",
            "(1+0j)\n",
            "<class 'int'>  ->  <class 'float'>\n",
            "<class 'float'>  ->  <class 'int'>\n",
            "<class 'int'>  ->  <class 'complex'>\n"
          ]
        }
      ]
    },
    {
      "cell_type": "markdown",
      "source": [
        "### Python​ Operators"
      ],
      "metadata": {
        "id": "MBZLYaL2G6-C"
      }
    },
    {
      "cell_type": "code",
      "execution_count": 30,
      "metadata": {
        "cellView": "form",
        "id": "sEdRSL_pGfLq",
        "colab": {
          "base_uri": "https://localhost:8080/"
        },
        "outputId": "7d28245a-072a-4c46-ff7b-5f3550804134"
      },
      "outputs": [
        {
          "output_type": "stream",
          "name": "stdout",
          "text": [
            "Sum:  9\n",
            "Subtraction:  5\n",
            "Multiplication:  14\n",
            "Division:  3.5\n",
            "Floor Division:  3\n",
            "Modulo:  1\n",
            "Power:  49\n"
          ]
        }
      ],
      "source": [
        "# @title Arithmetic Operators\n",
        "a = 7\n",
        "b = 2\n",
        "print ('Sum: ', a + b)\n",
        "print ('Subtraction: ', a - b)\n",
        "print ('Multiplication: ', a * b)\n",
        "print ('Division: ', a / b)\n",
        "print ('Floor Division: ', a // b)\n",
        "print ('Modulo: ', a % b)\n",
        "print ('Power: ', a ** b)"
      ]
    },
    {
      "cell_type": "code",
      "execution_count": 31,
      "metadata": {
        "cellView": "form",
        "id": "GXck-r4SjvQN",
        "outputId": "feb59e8d-9ebd-46a3-815c-cc918fad98f2",
        "colab": {
          "base_uri": "https://localhost:8080/"
        }
      },
      "outputs": [
        {
          "output_type": "stream",
          "name": "stdout",
          "text": [
            "15\n",
            "10\n"
          ]
        }
      ],
      "source": [
        "# @title Assignment Operators\n",
        "a = 10\n",
        "b = 5\n",
        "a += b\n",
        "print(a)\n",
        "a -= b\n",
        "print(a)"
      ]
    },
    {
      "cell_type": "code",
      "execution_count": 32,
      "metadata": {
        "cellView": "form",
        "id": "Kpo_4z9vjvdK",
        "outputId": "5a25a40f-11fc-4e15-ed25-81dd81e2c77e",
        "colab": {
          "base_uri": "https://localhost:8080/"
        }
      },
      "outputs": [
        {
          "output_type": "stream",
          "name": "stdout",
          "text": [
            "a =  5\n",
            "b =  2\n",
            "a == b = False\n",
            "a != b = True\n",
            "a > b = True\n",
            "a < b = False\n",
            "a >= b = True\n",
            "a <= b = False\n"
          ]
        }
      ],
      "source": [
        "# @title Comparison Operators\n",
        "a = 5\n",
        "b = 2\n",
        "print('a = ', a)\n",
        "print('b = ', b)\n",
        "print('a == b =', a == b)\n",
        "print('a != b =', a != b)\n",
        "print('a > b =', a > b)\n",
        "print('a < b =', a < b)\n",
        "print('a >= b =', a >= b)\n",
        "print('a <= b =', a <= b)"
      ]
    },
    {
      "cell_type": "code",
      "execution_count": 33,
      "metadata": {
        "cellView": "form",
        "id": "wbIvk2THjv4d",
        "outputId": "e0193883-cdb3-4276-ff08-c9bd53a54623",
        "colab": {
          "base_uri": "https://localhost:8080/"
        }
      },
      "outputs": [
        {
          "output_type": "stream",
          "name": "stdout",
          "text": [
            "True\n",
            "True\n",
            "False\n"
          ]
        }
      ],
      "source": [
        "# @title Logical Operators\n",
        "print(True and True)\n",
        "print(True or False)\n",
        "print(not True)"
      ]
    },
    {
      "cell_type": "code",
      "execution_count": 34,
      "metadata": {
        "cellView": "form",
        "id": "cBdd1jvjjv-r",
        "outputId": "7a69325f-98a1-4701-aa5e-cdbe4afe97e2",
        "colab": {
          "base_uri": "https://localhost:8080/"
        }
      },
      "outputs": [
        {
          "output_type": "stream",
          "name": "stdout",
          "text": [
            "2\n",
            "14\n",
            "-11\n",
            "12\n",
            "40\n",
            "5\n"
          ]
        }
      ],
      "source": [
        "# @title Bitwise operators\n",
        "a=10\n",
        "b=6\n",
        "print(a & b)\n",
        "print(a | b)\n",
        "print(~a)\n",
        "print(a ^ b)\n",
        "print(a << 2)\n",
        "print(a >> 1)"
      ]
    },
    {
      "cell_type": "code",
      "execution_count": 35,
      "metadata": {
        "cellView": "form",
        "id": "f1qCeD9ijwGl",
        "outputId": "691cbf7f-fdd8-43c6-944c-83a6f8b334b2",
        "colab": {
          "base_uri": "https://localhost:8080/"
        }
      },
      "outputs": [
        {
          "output_type": "stream",
          "name": "stdout",
          "text": [
            "False\n",
            "True\n",
            "False\n"
          ]
        }
      ],
      "source": [
        "# @title Identity Operators\n",
        "x1 = 5\n",
        "y1 = 5\n",
        "x2 = 'Hello'\n",
        "y2 = 'Hello'\n",
        "x3 = [1,2,3]\n",
        "y3 = [1,2,3]\n",
        "print(x1 is not y1)\n",
        "print(x2 is y2)\n",
        "print(x3 is y3)\n"
      ]
    },
    {
      "cell_type": "code",
      "execution_count": 36,
      "metadata": {
        "cellView": "form",
        "id": "gilTM7F7jwOX",
        "outputId": "8945eb39-d07c-4cb5-822a-af39d6ee8015",
        "colab": {
          "base_uri": "https://localhost:8080/"
        }
      },
      "outputs": [
        {
          "output_type": "stream",
          "name": "stdout",
          "text": [
            "True\n",
            "True\n",
            "True\n",
            "False\n"
          ]
        }
      ],
      "source": [
        "# @title Membership Operators\n",
        "message = 'Hello world'\n",
        "dict1 = {1:'a', 2:'b'}\n",
        "\n",
        "print('H' in message)\n",
        "print('hello' not in message)\n",
        "print(1 in dict1)\n",
        "print('a' in dict1)"
      ]
    }
  ]
}