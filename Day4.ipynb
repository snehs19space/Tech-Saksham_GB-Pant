{
  "nbformat": 4,
  "nbformat_minor": 0,
  "metadata": {
    "colab": {
      "provenance": [],
      "authorship_tag": "ABX9TyNU3HwNGRo6bkoriceJqx6C",
      "include_colab_link": true
    },
    "kernelspec": {
      "name": "python3",
      "display_name": "Python 3"
    },
    "language_info": {
      "name": "python"
    }
  },
  "cells": [
    {
      "cell_type": "markdown",
      "metadata": {
        "id": "view-in-github",
        "colab_type": "text"
      },
      "source": [
        "<a href=\"https://colab.research.google.com/github/snehs19space/Tech-Saksham_GB-Pant/blob/main/Day4.ipynb\" target=\"_parent\"><img src=\"https://colab.research.google.com/assets/colab-badge.svg\" alt=\"Open In Colab\"/></a>"
      ]
    },
    {
      "cell_type": "markdown",
      "source": [
        "### Strings in Python"
      ],
      "metadata": {
        "id": "nNYS0dPfVTns"
      }
    },
    {
      "cell_type": "code",
      "execution_count": 10,
      "metadata": {
        "colab": {
          "base_uri": "https://localhost:8080/",
          "height": 36
        },
        "cellView": "form",
        "id": "BYLYfyVESzFi",
        "outputId": "94bb1855-6e73-4b9d-c0fb-b0285758f797"
      },
      "outputs": [
        {
          "output_type": "execute_result",
          "data": {
            "text/plain": [
              "'Python'"
            ],
            "application/vnd.google.colaboratory.intrinsic+json": {
              "type": "string"
            }
          },
          "metadata": {},
          "execution_count": 10
        }
      ],
      "source": [
        "# @title Creating String\n",
        "language = \"Python\"\n",
        "language"
      ]
    },
    {
      "cell_type": "code",
      "source": [
        "# @title Length of String\n",
        "str = \"TechSaksham\"\n",
        "length_of_string = len(str)\n",
        "print('Length of string is: ',length_of_string)"
      ],
      "metadata": {
        "colab": {
          "base_uri": "https://localhost:8080/"
        },
        "cellView": "form",
        "id": "2yR0zY-3d_41",
        "outputId": "d45e4c9e-b9ce-4656-c4ee-9f0a35cef399"
      },
      "execution_count": 11,
      "outputs": [
        {
          "output_type": "stream",
          "name": "stdout",
          "text": [
            "Length of string is:  11\n"
          ]
        }
      ]
    },
    {
      "cell_type": "code",
      "source": [
        "# @title String Concatenation\n",
        "first_name = input('Enter your first name: ')\n",
        "last_name = input('Enter your last name: ')\n",
        "\n",
        "string_concatenation = first_name + \" \" +last_name\n",
        "print(\"\\nFull name:\",string_concatenation)"
      ],
      "metadata": {
        "colab": {
          "base_uri": "https://localhost:8080/"
        },
        "cellView": "form",
        "id": "yz9y0KZ9eUsT",
        "outputId": "db362894-d026-4b71-ba52-491ed2b7a9b8"
      },
      "execution_count": 12,
      "outputs": [
        {
          "output_type": "stream",
          "name": "stdout",
          "text": [
            "Enter your first name: Sanvi\n",
            "Enter your last name: Sneh\n",
            "\n",
            "Full name: Sanvi Sneh\n"
          ]
        }
      ]
    },
    {
      "cell_type": "code",
      "source": [
        "# @title String Slicing\n",
        "S = 'ABCDEFGHI'\n",
        "print(S[2:7])\n",
        "print(S[:9])\n",
        "print(S[2:])\n",
        "print(S[2:6:2])\n",
        "print(S[7:3:-1])"
      ],
      "metadata": {
        "colab": {
          "base_uri": "https://localhost:8080/"
        },
        "cellView": "form",
        "id": "022vr5ooei_N",
        "outputId": "0c12134f-dbc0-4576-e1d5-f3915c63099d"
      },
      "execution_count": 13,
      "outputs": [
        {
          "output_type": "stream",
          "name": "stdout",
          "text": [
            "CDEFG\n",
            "ABCDEFGHI\n",
            "CDEFGHI\n",
            "CE\n",
            "HGFE\n"
          ]
        }
      ]
    },
    {
      "cell_type": "code",
      "source": [
        "# @title String Split Method\n",
        "msg1 = \"Welcome to Pyhton\"\n",
        "msg2 = \"SS, LR, PK, MM\"\n",
        "msg3 = \"Python$Java$C#$c$HTML\"\n",
        "lst1 = msg1.split()\n",
        "lst2 = msg2.split(\",\",2)\n",
        "lst3 = msg3.split(\"$\",1)\n",
        "print(lst1)\n",
        "print(lst2)\n",
        "print(lst3)"
      ],
      "metadata": {
        "colab": {
          "base_uri": "https://localhost:8080/"
        },
        "cellView": "form",
        "id": "DpHjm1cNew-F",
        "outputId": "3942a2df-ffa5-48f2-c968-4436a6c5f369"
      },
      "execution_count": 14,
      "outputs": [
        {
          "output_type": "stream",
          "name": "stdout",
          "text": [
            "['Welcome', 'to', 'Pyhton']\n",
            "['SS', ' LR', ' PK, MM']\n",
            "['Python', 'Java$C#$c$HTML']\n"
          ]
        }
      ]
    },
    {
      "cell_type": "code",
      "source": [
        "# @title String Replace Method\n",
        "msg1 = \"Hi Guest Hi, Learn Python\"\n",
        "rmsg1 = msg1.replace(\"Hi\",\"Hello\")\n",
        "msg2 = \"aaaacc\"\n",
        "rmsg2 = msg2.replace(\"a\",\"b\")\n",
        "msg3 = \"1 2 3 4 5 6 7\"\n",
        "rmsg3 = msg3.replace(\" \",\",\")\n",
        "print(rmsg1)\n",
        "print(rmsg2)\n",
        "print(rmsg3)"
      ],
      "metadata": {
        "colab": {
          "base_uri": "https://localhost:8080/"
        },
        "cellView": "form",
        "id": "qN91i-p_eshN",
        "outputId": "1531a5ae-eb69-4e43-c729-37bc5990fc3e"
      },
      "execution_count": 15,
      "outputs": [
        {
          "output_type": "stream",
          "name": "stdout",
          "text": [
            "Hello Guest Hello, Learn Python\n",
            "bbbbcc\n",
            "1,2,3,4,5,6,7\n"
          ]
        }
      ]
    },
    {
      "cell_type": "code",
      "source": [
        "# @title String Find Method\n",
        "msg = \"Hi Friends hi, welcome to Pyhon Programming\"\n",
        "rmsg1 = msg.find(\"to\",4,10)\n",
        "rmsg2 = msg.find(\"hi\",1,15)\n",
        "rmsg3 = msg.find(\"Guest\", 2, 8)\n",
        "print(\"Substring 'to':\", rmsg1)\n",
        "print(\"Substring 'hi':\", rmsg2)\n",
        "print(\"Substring 'Guest':\", rmsg3)"
      ],
      "metadata": {
        "colab": {
          "base_uri": "https://localhost:8080/"
        },
        "cellView": "form",
        "id": "77SMPQxRev98",
        "outputId": "079d7cfa-0ead-4a73-a755-e0694c649a7a"
      },
      "execution_count": 16,
      "outputs": [
        {
          "output_type": "stream",
          "name": "stdout",
          "text": [
            "Substring 'to': -1\n",
            "Substring 'hi': 11\n",
            "Substring 'Guest': -1\n"
          ]
        }
      ]
    },
    {
      "cell_type": "markdown",
      "source": [
        "### Control Statements in Python"
      ],
      "metadata": {
        "id": "LeO1pRuE0vBo"
      }
    },
    {
      "cell_type": "code",
      "source": [
        "# @title if Statement\n",
        "number = 10\n",
        "if number > 0:\n",
        "    print('Number is positive')\n",
        "print('This statement always executes')"
      ],
      "metadata": {
        "colab": {
          "base_uri": "https://localhost:8080/"
        },
        "cellView": "form",
        "id": "4tP12UHi0uTH",
        "outputId": "eaabe38d-6618-451f-c347-119bfcb61a95"
      },
      "execution_count": 22,
      "outputs": [
        {
          "output_type": "stream",
          "name": "stdout",
          "text": [
            "Number is positive\n",
            "This statement always executes\n"
          ]
        }
      ]
    },
    {
      "cell_type": "code",
      "source": [
        "# @title if...else Statement\n",
        "number = 10\n",
        "if number > 0:\n",
        "    print('Positive number')\n",
        "else:\n",
        "    print('Negative number')\n",
        "print('This statement always executes')"
      ],
      "metadata": {
        "colab": {
          "base_uri": "https://localhost:8080/"
        },
        "cellView": "form",
        "id": "QpVzwYgl09pU",
        "outputId": "d2a86c56-498f-4ecd-e82c-d3b7f66f3469"
      },
      "execution_count": 23,
      "outputs": [
        {
          "output_type": "stream",
          "name": "stdout",
          "text": [
            "Positive number\n",
            "This statement always executes\n"
          ]
        }
      ]
    },
    {
      "cell_type": "code",
      "source": [
        "# @title if…elif…else Statement\n",
        "number = 0\n",
        "if number > 0:\n",
        "    print('Positive number')\n",
        "elif number <0:\n",
        "    print('Negative number')\n",
        "else:\n",
        "    print('Zero')\n",
        "print('This statement is always executed')"
      ],
      "metadata": {
        "colab": {
          "base_uri": "https://localhost:8080/"
        },
        "cellView": "form",
        "id": "U02HyUO51Ktw",
        "outputId": "784d6ca7-9f8f-4f4a-92dc-8e8475267e2f"
      },
      "execution_count": 24,
      "outputs": [
        {
          "output_type": "stream",
          "name": "stdout",
          "text": [
            "Zero\n",
            "This statement is always executed\n"
          ]
        }
      ]
    },
    {
      "cell_type": "code",
      "source": [
        "# @title Nested if...else Statements\n",
        "number = 5\n",
        "if number >= 0:\n",
        "    if number == 0:\n",
        "      print('Number is 0')\n",
        "    else:\n",
        "        print('Number is positive')\n",
        "else:\n",
        "    print('Number is negative')"
      ],
      "metadata": {
        "colab": {
          "base_uri": "https://localhost:8080/"
        },
        "cellView": "form",
        "id": "FeFcPwfI1NiZ",
        "outputId": "87aa91cd-b9d0-428a-bc80-6850e32895ca"
      },
      "execution_count": 25,
      "outputs": [
        {
          "output_type": "stream",
          "name": "stdout",
          "text": [
            "Number is positive\n"
          ]
        }
      ]
    },
    {
      "cell_type": "markdown",
      "source": [
        "### Loops in Python"
      ],
      "metadata": {
        "id": "_GtnJ5MK1fne"
      }
    },
    {
      "cell_type": "code",
      "source": [
        "# @title for Loop\n",
        "language = 'Python'\n",
        "for x in language:\n",
        "    print(x)"
      ],
      "metadata": {
        "colab": {
          "base_uri": "https://localhost:8080/"
        },
        "cellView": "form",
        "id": "DctMjCXY1tww",
        "outputId": "2ce2b8e5-07c1-4c54-bc2c-af0820cb86bd"
      },
      "execution_count": 26,
      "outputs": [
        {
          "output_type": "stream",
          "name": "stdout",
          "text": [
            "P\n",
            "y\n",
            "t\n",
            "h\n",
            "o\n",
            "n\n"
          ]
        }
      ]
    },
    {
      "cell_type": "code",
      "source": [
        "# @title for Loop with range() function\n",
        "for x in range(2, 6):\n",
        "  print(x)"
      ],
      "metadata": {
        "colab": {
          "base_uri": "https://localhost:8080/"
        },
        "cellView": "form",
        "id": "EH420M2X23il",
        "outputId": "144d2d33-1c00-4b46-8965-e5d40292b4de"
      },
      "execution_count": 27,
      "outputs": [
        {
          "output_type": "stream",
          "name": "stdout",
          "text": [
            "2\n",
            "3\n",
            "4\n",
            "5\n"
          ]
        }
      ]
    },
    {
      "cell_type": "code",
      "source": [
        "# @title while Loop\n",
        "count = 0\n",
        "while (count < 10):\n",
        " print ('The count is:', count)\n",
        " count = count + 1\n",
        "print (\"Done!\")"
      ],
      "metadata": {
        "colab": {
          "base_uri": "https://localhost:8080/"
        },
        "cellView": "form",
        "id": "g6AluH9h1xOW",
        "outputId": "cef9beec-6b58-4656-9cd3-44918d274d2e"
      },
      "execution_count": 28,
      "outputs": [
        {
          "output_type": "stream",
          "name": "stdout",
          "text": [
            "The count is: 0\n",
            "The count is: 1\n",
            "The count is: 2\n",
            "The count is: 3\n",
            "The count is: 4\n",
            "The count is: 5\n",
            "The count is: 6\n",
            "The count is: 7\n",
            "The count is: 8\n",
            "The count is: 9\n",
            "Done!\n"
          ]
        }
      ]
    },
    {
      "cell_type": "code",
      "source": [
        "# @title Loop Control Statement - Break\n",
        "for i in range(10):\n",
        "  if i == 5:\n",
        "    break\n",
        "  print(i)"
      ],
      "metadata": {
        "colab": {
          "base_uri": "https://localhost:8080/"
        },
        "cellView": "form",
        "id": "ry6gl7BR1xfs",
        "outputId": "c786b523-5365-4398-a8aa-b80fa0895abf"
      },
      "execution_count": 29,
      "outputs": [
        {
          "output_type": "stream",
          "name": "stdout",
          "text": [
            "0\n",
            "1\n",
            "2\n",
            "3\n",
            "4\n"
          ]
        }
      ]
    },
    {
      "cell_type": "code",
      "source": [
        "# @title Loop Control Statement - Continue\n",
        "for i in range(10):\n",
        "  if i % 2 == 0:\n",
        "    continue\n",
        "  print(i)"
      ],
      "metadata": {
        "colab": {
          "base_uri": "https://localhost:8080/"
        },
        "cellView": "form",
        "id": "CoZj5roI2Cx7",
        "outputId": "a819bae0-ea06-4a9e-ea3c-2489bca3d4b4"
      },
      "execution_count": 30,
      "outputs": [
        {
          "output_type": "stream",
          "name": "stdout",
          "text": [
            "1\n",
            "3\n",
            "5\n",
            "7\n",
            "9\n"
          ]
        }
      ]
    },
    {
      "cell_type": "code",
      "source": [
        "# @title Loop Control Statement - Pass\n",
        "for i in range(10):\n",
        "  pass\n",
        "print(\"Pass statement does nothing in loop.\")"
      ],
      "metadata": {
        "colab": {
          "base_uri": "https://localhost:8080/"
        },
        "cellView": "form",
        "id": "f69VNrDr2H1I",
        "outputId": "ec0c4676-cd79-411b-f9a3-c5867298ae36"
      },
      "execution_count": 31,
      "outputs": [
        {
          "output_type": "stream",
          "name": "stdout",
          "text": [
            "Pass statement does nothing in loop.\n"
          ]
        }
      ]
    },
    {
      "cell_type": "markdown",
      "source": [
        "### Functions in Python"
      ],
      "metadata": {
        "id": "R7z0Oe9tgKfH"
      }
    },
    {
      "cell_type": "code",
      "source": [
        "# @title Function Example\n",
        "def greet():\n",
        "    print('Inside function')\n",
        "    print('Hello World!')\n",
        "\n",
        "greet()\n",
        "print('Outside function')"
      ],
      "metadata": {
        "colab": {
          "base_uri": "https://localhost:8080/"
        },
        "cellView": "form",
        "id": "E6XYAVc-ewJj",
        "outputId": "ad0c2dd4-ed7b-479a-8117-2ff2b19b9c41"
      },
      "execution_count": 17,
      "outputs": [
        {
          "output_type": "stream",
          "name": "stdout",
          "text": [
            "Inside function\n",
            "Hello World!\n",
            "Outside function\n"
          ]
        }
      ]
    },
    {
      "cell_type": "code",
      "source": [
        "# @title Function for Addition\n",
        "def add_numbers(num1, num2):\n",
        "    sum = num1 + num2\n",
        "    print(\"Sum: \", sum)\n",
        "\n",
        "add_numbers(5, 4)"
      ],
      "metadata": {
        "colab": {
          "base_uri": "https://localhost:8080/"
        },
        "cellView": "form",
        "id": "zCVQiVeCewDZ",
        "outputId": "01c3e835-8973-4364-c843-5c92ddcdb24f"
      },
      "execution_count": 18,
      "outputs": [
        {
          "output_type": "stream",
          "name": "stdout",
          "text": [
            "Sum:  9\n"
          ]
        }
      ]
    },
    {
      "cell_type": "code",
      "source": [
        "# @title Lambda/Anonymous Function\n",
        "greet = lambda : print('Hello World')\n",
        "greet()"
      ],
      "metadata": {
        "colab": {
          "base_uri": "https://localhost:8080/"
        },
        "cellView": "form",
        "id": "YwZbDCgyewMm",
        "outputId": "d5aab600-3b45-43d2-f9a3-8e3a1ea9749b"
      },
      "execution_count": 19,
      "outputs": [
        {
          "output_type": "stream",
          "name": "stdout",
          "text": [
            "Hello World\n"
          ]
        }
      ]
    },
    {
      "cell_type": "code",
      "source": [
        "# @title Call by Value\n",
        "string = \"Edunet\"\n",
        "\n",
        "def test(string):\n",
        "    string = \"Sarvesh\"\n",
        "    print(\"Inside Function:\", string)\n",
        "\n",
        "test(string)\n",
        "print(\"Outside Function:\", string)"
      ],
      "metadata": {
        "colab": {
          "base_uri": "https://localhost:8080/"
        },
        "cellView": "form",
        "id": "DDxnlxIlewPn",
        "outputId": "38faa99a-5e9b-4117-f851-d0c24cd9c935"
      },
      "execution_count": 20,
      "outputs": [
        {
          "output_type": "stream",
          "name": "stdout",
          "text": [
            "Inside Function: Sarvesh\n",
            "Outside Function: Edunet\n"
          ]
        }
      ]
    },
    {
      "cell_type": "code",
      "source": [
        "# @title Call by Reference\n",
        "\n",
        "def add_more(list):\n",
        "    list.append(50)\n",
        "    print(\"Inside Function\", list)\n",
        "\n",
        "mylist = [10, 20, 30, 40]\n",
        "\n",
        "add_more(mylist)\n",
        "print(\"Outside Function:\", mylist)"
      ],
      "metadata": {
        "colab": {
          "base_uri": "https://localhost:8080/"
        },
        "cellView": "form",
        "id": "UvxBS0h_ewSp",
        "outputId": "b8bd95e3-b417-4413-cdda-b82e18db5635"
      },
      "execution_count": 21,
      "outputs": [
        {
          "output_type": "stream",
          "name": "stdout",
          "text": [
            "Inside Function [10, 20, 30, 40, 50]\n",
            "Outside Function: [10, 20, 30, 40, 50]\n"
          ]
        }
      ]
    }
  ]
}