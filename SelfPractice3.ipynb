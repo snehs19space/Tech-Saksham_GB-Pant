{
  "nbformat": 4,
  "nbformat_minor": 0,
  "metadata": {
    "colab": {
      "provenance": [],
      "authorship_tag": "ABX9TyPjueTV49ha441Efo9hhdiP",
      "include_colab_link": true
    },
    "kernelspec": {
      "name": "python3",
      "display_name": "Python 3"
    },
    "language_info": {
      "name": "python"
    }
  },
  "cells": [
    {
      "cell_type": "markdown",
      "metadata": {
        "id": "view-in-github",
        "colab_type": "text"
      },
      "source": [
        "<a href=\"https://colab.research.google.com/github/snehs19space/Tech-Saksham_GB-Pant/blob/main/SelfPractice3.ipynb\" target=\"_parent\"><img src=\"https://colab.research.google.com/assets/colab-badge.svg\" alt=\"Open In Colab\"/></a>"
      ]
    },
    {
      "cell_type": "markdown",
      "source": [
        "## Self Practice - 3"
      ],
      "metadata": {
        "id": "7r6AZWSuw_73"
      }
    },
    {
      "cell_type": "code",
      "execution_count": 6,
      "metadata": {
        "colab": {
          "base_uri": "https://localhost:8080/"
        },
        "cellView": "form",
        "id": "XK2LWfm7w9yF",
        "outputId": "a4b509b9-c063-4fa0-b895-4e437205c1b6"
      },
      "outputs": [
        {
          "output_type": "stream",
          "name": "stdout",
          "text": [
            "29 is a prime number.\n"
          ]
        }
      ],
      "source": [
        "# @title Problem 1 : Write python program to check Prime Number.\n",
        "num = 29\n",
        "flag = False\n",
        "\n",
        "if num == 1:\n",
        "    print(num, \"is not a prime number\")\n",
        "elif num > 1:\n",
        "    for i in range(2, num):\n",
        "        if (num % i) == 0:\n",
        "            flag = True\n",
        "            break\n",
        "    if flag:\n",
        "        print(num, \"is not a prime number.\")\n",
        "    else:\n",
        "        print(num, \"is a prime number.\")"
      ]
    },
    {
      "cell_type": "code",
      "execution_count": 7,
      "metadata": {
        "colab": {
          "base_uri": "https://localhost:8080/"
        },
        "cellView": "form",
        "id": "BQvjpiIm1cKL",
        "outputId": "046eab60-95b1-4cb8-c43e-2685aedab4e0"
      },
      "outputs": [
        {
          "output_type": "stream",
          "name": "stdout",
          "text": [
            "The factorial of 7 is 5040\n"
          ]
        }
      ],
      "source": [
        "# @title Problem 2 : Write python program to find the Factorial of a Number.\n",
        "num = 7\n",
        "factorial = 1\n",
        "\n",
        "if num < 0:\n",
        "   print(\"Sorry, factorial does not exist for negative numbers\")\n",
        "elif num == 0:\n",
        "   print(\"The factorial of 0 is 1\")\n",
        "else:\n",
        "   for i in range(1, num + 1):\n",
        "       factorial *= i\n",
        "   print(\"The factorial of\", num, \"is\", factorial)"
      ]
    },
    {
      "cell_type": "code",
      "execution_count": 8,
      "metadata": {
        "colab": {
          "base_uri": "https://localhost:8080/"
        },
        "cellView": "form",
        "id": "wuCFO4MX1cNV",
        "outputId": "e0fd6cf0-3ef7-4696-abf2-425da901009b"
      },
      "outputs": [
        {
          "output_type": "stream",
          "name": "stdout",
          "text": [
            "12 x 1 = 12\n",
            "12 x 2 = 24\n",
            "12 x 3 = 36\n",
            "12 x 4 = 48\n",
            "12 x 5 = 60\n",
            "12 x 6 = 72\n",
            "12 x 7 = 84\n",
            "12 x 8 = 96\n",
            "12 x 9 = 108\n",
            "12 x 10 = 120\n"
          ]
        }
      ],
      "source": [
        "# @title Problem 3 : Write python program to display the Multiplication Table.\n",
        "num = 12\n",
        "for i in range(1, 11):\n",
        "   print(num, 'x', i, '=', num * i)"
      ]
    },
    {
      "cell_type": "code",
      "execution_count": 14,
      "metadata": {
        "colab": {
          "base_uri": "https://localhost:8080/"
        },
        "cellView": "form",
        "id": "aPtphttz1cP-",
        "outputId": "8ef2e572-6e18-4dbd-b807-7c2c3cb0c6a2"
      },
      "outputs": [
        {
          "output_type": "stream",
          "name": "stdout",
          "text": [
            "Average Score : 87.4\n"
          ]
        }
      ],
      "source": [
        "# @title Problem 4 : Write python program to calculate Average of List of Numbers.\n",
        "def calculate_average(numbers):\n",
        "    total = sum(numbers)\n",
        "    count = len(numbers)\n",
        "    average = total / count\n",
        "    return average\n",
        "\n",
        "scores = [88, 92, 79, 93, 85]\n",
        "avg_score = calculate_average(scores)\n",
        "print(f\"Average Score : {avg_score}\")"
      ]
    },
    {
      "cell_type": "code",
      "execution_count": 13,
      "metadata": {
        "colab": {
          "base_uri": "https://localhost:8080/"
        },
        "cellView": "form",
        "id": "9K9r1cT31cTS",
        "outputId": "48414170-8446-45ad-d320-a02a15ee8c9c"
      },
      "outputs": [
        {
          "output_type": "stream",
          "name": "stdout",
          "text": [
            "Maximum Age: 67\n"
          ]
        }
      ],
      "source": [
        "# @title Problem 5 : Write python program to find Maximum Age in the List of ages.\n",
        "def find_max(numbers):\n",
        "    max_num = numbers[0]\n",
        "    for number in numbers:\n",
        "        if number > max_num:\n",
        "            max_num = number\n",
        "    return max_num\n",
        "\n",
        "ages = [23, 45, 18, 67, 34, 56]\n",
        "max_age = find_max(ages)\n",
        "print(f\"Maximum Age: {max_age}\")"
      ]
    }
  ]
}