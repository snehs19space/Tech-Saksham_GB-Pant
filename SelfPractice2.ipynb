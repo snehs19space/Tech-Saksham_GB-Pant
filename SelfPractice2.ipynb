{
  "nbformat": 4,
  "nbformat_minor": 0,
  "metadata": {
    "colab": {
      "provenance": [],
      "authorship_tag": "ABX9TyM9N4eEy+sMYStHmStx1pjp",
      "include_colab_link": true
    },
    "kernelspec": {
      "name": "python3",
      "display_name": "Python 3"
    },
    "language_info": {
      "name": "python"
    }
  },
  "cells": [
    {
      "cell_type": "markdown",
      "metadata": {
        "id": "view-in-github",
        "colab_type": "text"
      },
      "source": [
        "<a href=\"https://colab.research.google.com/github/snehs19space/Tech-Saksham_GB-Pant/blob/main/SelfPractice2.ipynb\" target=\"_parent\"><img src=\"https://colab.research.google.com/assets/colab-badge.svg\" alt=\"Open In Colab\"/></a>"
      ]
    },
    {
      "cell_type": "markdown",
      "source": [
        "## Self Practice - 2"
      ],
      "metadata": {
        "id": "8lMVRuO4u3jq"
      }
    },
    {
      "cell_type": "code",
      "source": [
        "# @title Problem 1 : Write python program to generate 'e' as output using string slicing.\n",
        "a = \"Hello, World!\"\n",
        "print(a[1])"
      ],
      "metadata": {
        "colab": {
          "base_uri": "https://localhost:8080/"
        },
        "cellView": "form",
        "id": "YAQ5IKxUu7mJ",
        "outputId": "c63b8841-2cd9-44b1-d97f-247e796dd846"
      },
      "execution_count": 8,
      "outputs": [
        {
          "output_type": "stream",
          "name": "stdout",
          "text": [
            "e\n"
          ]
        }
      ]
    },
    {
      "cell_type": "code",
      "source": [
        "# @title Problem 2 : Write a python program to concatenate two strings.\n",
        "str1 = \"Hello\"\n",
        "str2 = \"World\"\n",
        "print(\"\".join([str1, str2]))\n",
        "str3 = \" \".join([str1, str2])\n",
        "print(str3)"
      ],
      "metadata": {
        "colab": {
          "base_uri": "https://localhost:8080/"
        },
        "cellView": "form",
        "id": "6bj7q-EwvVvy",
        "outputId": "16b154a4-5480-4c72-9da4-b1e855e202bd"
      },
      "execution_count": 9,
      "outputs": [
        {
          "output_type": "stream",
          "name": "stdout",
          "text": [
            "HelloWorld\n",
            "Hello World\n"
          ]
        }
      ]
    },
    {
      "cell_type": "code",
      "source": [
        "# @title Problem 3 : Write a python program to reverse a string.\n",
        "string = \"string_reversed\"\n",
        "print(string[::-1])"
      ],
      "metadata": {
        "colab": {
          "base_uri": "https://localhost:8080/"
        },
        "cellView": "form",
        "id": "KqrFTziIvp1h",
        "outputId": "5218babc-7bfe-49ec-a42c-02dab833dbec"
      },
      "execution_count": 10,
      "outputs": [
        {
          "output_type": "stream",
          "name": "stdout",
          "text": [
            "desrever_gnirts\n"
          ]
        }
      ]
    },
    {
      "cell_type": "code",
      "execution_count": 11,
      "metadata": {
        "colab": {
          "base_uri": "https://localhost:8080/"
        },
        "cellView": "form",
        "id": "hvg7aRHSuXW5",
        "outputId": "be8e86b8-9926-4623-ce2d-e0de619e3f01"
      },
      "outputs": [
        {
          "output_type": "stream",
          "name": "stdout",
          "text": [
            "('A', 'B', 'r', 'e', 's', 'o', 'u', 'r', 'c', 'e')\n",
            "e\n",
            "u\n"
          ]
        }
      ],
      "source": [
        "# @title Problem 4 : Write a Python program to get the 4th element from the first and last of a tuple.\n",
        "tuplex = (\"A\", 'B', \"r\", \"e\", \"s\", \"o\", \"u\", \"r\", \"c\", \"e\")\n",
        "print(tuplex)\n",
        "item = tuplex[3]\n",
        "print(item)\n",
        "item1 = tuplex[-4]\n",
        "print(item1)"
      ]
    }
  ]
}