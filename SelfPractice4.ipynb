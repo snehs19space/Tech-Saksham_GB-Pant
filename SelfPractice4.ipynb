{
  "nbformat": 4,
  "nbformat_minor": 0,
  "metadata": {
    "colab": {
      "provenance": [],
      "authorship_tag": "ABX9TyOdMBMrSHS6Yn4cO4LmixpC",
      "include_colab_link": true
    },
    "kernelspec": {
      "name": "python3",
      "display_name": "Python 3"
    },
    "language_info": {
      "name": "python"
    }
  },
  "cells": [
    {
      "cell_type": "markdown",
      "metadata": {
        "id": "view-in-github",
        "colab_type": "text"
      },
      "source": [
        "<a href=\"https://colab.research.google.com/github/snehs19space/Tech-Saksham_GB-Pant/blob/main/SelfPractice4.ipynb\" target=\"_parent\"><img src=\"https://colab.research.google.com/assets/colab-badge.svg\" alt=\"Open In Colab\"/></a>"
      ]
    },
    {
      "cell_type": "markdown",
      "source": [
        "## Self Practice - 4"
      ],
      "metadata": {
        "id": "G404PV3z3ZPp"
      }
    },
    {
      "cell_type": "code",
      "execution_count": 6,
      "metadata": {
        "colab": {
          "base_uri": "https://localhost:8080/"
        },
        "cellView": "form",
        "id": "upyVl3UL3Yz5",
        "outputId": "dbfb3407-b3cd-4a51-c198-b41d3919dfb9"
      },
      "outputs": [
        {
          "output_type": "stream",
          "name": "stdout",
          "text": [
            "The distance between two points are : 9.433981132056603\n",
            "The slope of line passing through the points is : 1.6\n"
          ]
        }
      ],
      "source": [
        "# @title Problem 1 : Write a python program to create Line class and its methods to accept coordinates as a pair of tuples and return the slope and distance of the line.\n",
        "class Line:\n",
        "    def __init__(self,coor1,coor2):\n",
        "        self.x1 = coor1[0]\n",
        "        self.y1 = coor1[1]\n",
        "        self.x2 = coor2[0]\n",
        "        self.y2 = coor2[1]\n",
        "\n",
        "    def distance(self):\n",
        "        print(\"The distance between two points are :\",((self.x2 - self.x1)**2 + (self.y2 - self.y1)**2)**0.5)\n",
        "\n",
        "    def slope(self):\n",
        "        print(\"The slope of line passing through the points is :\",(self.y2 - self.y1) / (self.x2 - self.x1))\n",
        "\n",
        "coordinate1 = (3,2)\n",
        "coordinate2 = (8,10)\n",
        "li = Line(coordinate1,coordinate2)\n",
        "li.distance()\n",
        "li.slope()"
      ]
    },
    {
      "cell_type": "code",
      "execution_count": 7,
      "metadata": {
        "colab": {
          "base_uri": "https://localhost:8080/"
        },
        "cellView": "form",
        "id": "bgW4lGJX3gWb",
        "outputId": "1e92865d-3ff1-4ddd-b3d0-39e0bfdfa79c"
      },
      "outputs": [
        {
          "output_type": "stream",
          "name": "stdout",
          "text": [
            "Hello, my name is Rama\n"
          ]
        }
      ],
      "source": [
        "# @title Problem 2 : Write a python program to create a class Person and attributes name and age and display a greeting message on the display.\n",
        "class Person:\n",
        "    def __init__(self, name, age):\n",
        "        self.name = name\n",
        "        self.age = age\n",
        "    def greet(self):\n",
        "        print(\"Hello, my name is \" + self.name)\n",
        "\n",
        "person1 = Person(\"Rama\", 25)\n",
        "person1.greet()"
      ]
    },
    {
      "cell_type": "code",
      "execution_count": 8,
      "metadata": {
        "colab": {
          "base_uri": "https://localhost:8080/"
        },
        "cellView": "form",
        "id": "JWh-4GE63gZP",
        "outputId": "b90fa46a-70e9-4926-c36d-fc905009eec0"
      },
      "outputs": [
        {
          "output_type": "stream",
          "name": "stdout",
          "text": [
            "Dog is Barking.\n",
            "Animals are speaking.\n",
            "Dod is eating Bread.\n"
          ]
        }
      ],
      "source": [
        "# @title Problem 3 : Write a python program describing inheritance for class Animal so you can inherit various properties like all animals eat, bark etc.\n",
        "class Animal:\n",
        "    def speak(self):\n",
        "        print(\"Animals are speaking.\")\n",
        "\n",
        "class Dog(Animal):\n",
        "    def bark(self):\n",
        "        print(\"Dog is Barking.\")\n",
        "\n",
        "class DogChild(Dog):\n",
        "    def eat(self):\n",
        "        print(\"Dod is eating Bread.\")\n",
        "\n",
        "d = DogChild()\n",
        "d.bark()\n",
        "d.speak()\n",
        "d.eat()"
      ]
    }
  ]
}