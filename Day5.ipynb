{
  "nbformat": 4,
  "nbformat_minor": 0,
  "metadata": {
    "colab": {
      "provenance": [],
      "authorship_tag": "ABX9TyNgTacjl9H0lHd6M4ngYM+O",
      "include_colab_link": true
    },
    "kernelspec": {
      "name": "python3",
      "display_name": "Python 3"
    },
    "language_info": {
      "name": "python"
    }
  },
  "cells": [
    {
      "cell_type": "markdown",
      "metadata": {
        "id": "view-in-github",
        "colab_type": "text"
      },
      "source": [
        "<a href=\"https://colab.research.google.com/github/snehs19space/Tech-Saksham_GB-Pant/blob/main/Day5.ipynb\" target=\"_parent\"><img src=\"https://colab.research.google.com/assets/colab-badge.svg\" alt=\"Open In Colab\"/></a>"
      ]
    },
    {
      "cell_type": "markdown",
      "source": [
        "### Python Lists"
      ],
      "metadata": {
        "id": "Ttooiq_kpSMl"
      }
    },
    {
      "cell_type": "code",
      "execution_count": 5,
      "metadata": {
        "id": "yvGGiJMjpIgB",
        "colab": {
          "base_uri": "https://localhost:8080/"
        },
        "cellView": "form",
        "outputId": "d413110a-5e0a-4481-eadc-8051648151fa"
      },
      "outputs": [
        {
          "output_type": "execute_result",
          "data": {
            "text/plain": [
              "['apple', 'banana', 'cherry']"
            ]
          },
          "metadata": {},
          "execution_count": 5
        }
      ],
      "source": [
        "# @title List Definition\n",
        "fruits = [\"apple\", \"banana\", \"cherry\"]\n",
        "fruits"
      ]
    },
    {
      "cell_type": "code",
      "source": [
        "# @title Length of List\n",
        "thislist = [\"apple\", \"banana\", \"cherry\"]\n",
        "print(len(thislist))"
      ],
      "metadata": {
        "colab": {
          "base_uri": "https://localhost:8080/"
        },
        "cellView": "form",
        "id": "ZqeCya02UvIr",
        "outputId": "bbbde9e8-7ccf-473c-9864-cfda428c3891"
      },
      "execution_count": 6,
      "outputs": [
        {
          "output_type": "stream",
          "name": "stdout",
          "text": [
            "3\n"
          ]
        }
      ]
    },
    {
      "cell_type": "code",
      "source": [
        "# @title List Indexing and Slicing\n",
        "list = [1,2,3,4,5,6,7]\n",
        "print(list[0])\n",
        "print(list[1])\n",
        "print(list[2])\n",
        "print(list[3])\n",
        "print(list[0:6])\n",
        "print(list[:])\n",
        "print(list[2:5])\n",
        "print(list[1:6:2])"
      ],
      "metadata": {
        "colab": {
          "base_uri": "https://localhost:8080/"
        },
        "cellView": "form",
        "id": "StNkJWBEUxkf",
        "outputId": "4934c4e8-b210-4c52-d2f2-e6e952753ee1"
      },
      "execution_count": 7,
      "outputs": [
        {
          "output_type": "stream",
          "name": "stdout",
          "text": [
            "1\n",
            "2\n",
            "3\n",
            "4\n",
            "[1, 2, 3, 4, 5, 6]\n",
            "[1, 2, 3, 4, 5, 6, 7]\n",
            "[3, 4, 5]\n",
            "[2, 4, 6]\n"
          ]
        }
      ]
    },
    {
      "cell_type": "code",
      "source": [
        "# @title List Methods\n",
        "my_list = [3, 1, 4, 1, 5]\n",
        "print(\"Initial List:\", my_list)\n",
        "\n",
        "my_list.append(9)\n",
        "print(\"After append(9):\", my_list)\n",
        "\n",
        "temp_list = my_list.copy()\n",
        "temp_list.clear()\n",
        "print(\"After clear():\", temp_list)\n",
        "\n",
        "copied_list = my_list.copy()\n",
        "print(\"Copied List:\", copied_list)\n",
        "\n",
        "count_of_1 = my_list.count(1)\n",
        "print(\"Count of 1:\", count_of_1)\n",
        "\n",
        "my_list.extend([2, 6])\n",
        "print(\"After extend([2, 6]):\", my_list)\n",
        "\n",
        "index_of_5 = my_list.index(5)\n",
        "print(\"Index of 5:\", index_of_5)\n",
        "\n",
        "my_list.insert(2, 7)\n",
        "print(\"After insert(2, 7):\", my_list)\n",
        "\n",
        "popped_item = my_list.pop(3)\n",
        "print(f\"After pop(3): {my_list}, Popped Item: {popped_item}\")\n",
        "\n",
        "my_list.remove(1)\n",
        "print(\"After remove(1):\", my_list)\n",
        "\n",
        "my_list.reverse()\n",
        "print(\"After reverse():\", my_list)\n",
        "\n",
        "my_list.sort()\n",
        "print(\"After sort():\", my_list)"
      ],
      "metadata": {
        "colab": {
          "base_uri": "https://localhost:8080/"
        },
        "cellView": "form",
        "id": "3KTMii2IUyR-",
        "outputId": "86937e1c-4245-454c-ef2f-998ac15fab38"
      },
      "execution_count": 8,
      "outputs": [
        {
          "output_type": "stream",
          "name": "stdout",
          "text": [
            "Initial List: [3, 1, 4, 1, 5]\n",
            "After append(9): [3, 1, 4, 1, 5, 9]\n",
            "After clear(): []\n",
            "Copied List: [3, 1, 4, 1, 5, 9]\n",
            "Count of 1: 2\n",
            "After extend([2, 6]): [3, 1, 4, 1, 5, 9, 2, 6]\n",
            "Index of 5: 4\n",
            "After insert(2, 7): [3, 1, 7, 4, 1, 5, 9, 2, 6]\n",
            "After pop(3): [3, 1, 7, 1, 5, 9, 2, 6], Popped Item: 4\n",
            "After remove(1): [3, 7, 1, 5, 9, 2, 6]\n",
            "After reverse(): [6, 2, 9, 5, 1, 7, 3]\n",
            "After sort(): [1, 2, 3, 5, 6, 7, 9]\n"
          ]
        }
      ]
    },
    {
      "cell_type": "code",
      "source": [
        "# @title List Comprehension\n",
        "nlist = [i for i in range(15)]\n",
        "print(\"List of numbers from 0 to 14 : \", nlist)\n",
        "\n",
        "mlist = [p for p in range(7) if p < 3]\n",
        "print(\"List of numbers less than 3 from the range 0 to 6 : \", mlist)\n",
        "\n",
        "d = [w**2 for w in range(11)]\n",
        "print(\"List of squares of numbers from 0 to 10 using List Comprehension : \", d)\n",
        "\n",
        "pairs = [(a, b) for a in [1, 2, 3, 4] for b in [5, 2, 4] if a != b]\n",
        "print(\"Paired List:\", pairs)"
      ],
      "metadata": {
        "colab": {
          "base_uri": "https://localhost:8080/"
        },
        "id": "vaDmpHKsXsEq",
        "outputId": "90904429-e15d-41a8-fc30-e30b850f1a40",
        "cellView": "form"
      },
      "execution_count": 9,
      "outputs": [
        {
          "output_type": "stream",
          "name": "stdout",
          "text": [
            "List of numbers from 0 to 14 :  [0, 1, 2, 3, 4, 5, 6, 7, 8, 9, 10, 11, 12, 13, 14]\n",
            "List of numbers less than 3 from the range 0 to 6 :  [0, 1, 2]\n",
            "List of squares of numbers from 0 to 10 using List Comprehension :  [0, 1, 4, 9, 16, 25, 36, 49, 64, 81, 100]\n",
            "Paired List: [(1, 5), (1, 2), (1, 4), (2, 5), (2, 4), (3, 5), (3, 2), (3, 4), (4, 5), (4, 2)]\n"
          ]
        }
      ]
    },
    {
      "cell_type": "markdown",
      "source": [
        "### Python Tuples"
      ],
      "metadata": {
        "id": "V6lufSYVUR1v"
      }
    },
    {
      "cell_type": "code",
      "source": [
        "# @title Tuple Definition\n",
        "thistuple = (\"apple\", \"banana\", \"cherry\")\n",
        "print(thistuple)"
      ],
      "metadata": {
        "colab": {
          "base_uri": "https://localhost:8080/"
        },
        "cellView": "form",
        "id": "NZtdU-R-bS4n",
        "outputId": "581ac2ee-77b1-4ea9-ff6a-ecf0f48c93b0"
      },
      "execution_count": 10,
      "outputs": [
        {
          "output_type": "stream",
          "name": "stdout",
          "text": [
            "('apple', 'banana', 'cherry')\n"
          ]
        }
      ]
    },
    {
      "cell_type": "code",
      "source": [
        "# @title Tuple vs String\n",
        "thistuple = (\"apple\",)\n",
        "print(thistuple, \" -> \",type(thistuple))\n",
        "\n",
        "thistuple = (\"apple\")\n",
        "print(thistuple, \" -> \",type(thistuple))"
      ],
      "metadata": {
        "colab": {
          "base_uri": "https://localhost:8080/"
        },
        "cellView": "form",
        "id": "qZOXKxokbUjT",
        "outputId": "c87a2e5c-dc44-477e-87bb-6571d7f4084f"
      },
      "execution_count": 11,
      "outputs": [
        {
          "output_type": "stream",
          "name": "stdout",
          "text": [
            "('apple',)  ->  <class 'tuple'>\n",
            "apple  ->  <class 'str'>\n"
          ]
        }
      ]
    },
    {
      "cell_type": "code",
      "source": [
        "# @title Tuple Indexing and Slicing\n",
        "tuple_ = (\"Python\", \"Tuple\", \"Ordered\", \"Immutable\", \"Collection\", \"Objects\")\n",
        "print(tuple_[1])\n",
        "print(tuple_[4])\n",
        "print(\"Elements between indices 1 and 3: \", tuple_[1:3])\n",
        "print(\"Elements between indices 0 and -4: \", tuple_[:-4])\n",
        "print(\"Entire tuple: \", tuple_[:])"
      ],
      "metadata": {
        "colab": {
          "base_uri": "https://localhost:8080/"
        },
        "cellView": "form",
        "id": "tmjpD7yibz9y",
        "outputId": "a4a30960-f618-41d1-97bc-3e5c1e9a7023"
      },
      "execution_count": 12,
      "outputs": [
        {
          "output_type": "stream",
          "name": "stdout",
          "text": [
            "Tuple\n",
            "Collection\n",
            "Elements between indices 1 and 3:  ('Tuple', 'Ordered')\n",
            "Elements between indices 0 and -4:  ('Python', 'Tuple')\n",
            "Entire tuple:  ('Python', 'Tuple', 'Ordered', 'Immutable', 'Collection', 'Objects')\n"
          ]
        }
      ]
    },
    {
      "cell_type": "markdown",
      "source": [
        "### Python Dictionaries"
      ],
      "metadata": {
        "id": "pwb4HofxUSmg"
      }
    },
    {
      "cell_type": "code",
      "source": [
        "# @title Dictionary Definition\n",
        "Employee = {\"Name\": \"Johnny\", \"Age\": 32, \"salary\":26000,\"Company\":\"TCS\"}\n",
        "Employee"
      ],
      "metadata": {
        "colab": {
          "base_uri": "https://localhost:8080/"
        },
        "cellView": "form",
        "id": "WI7rL6jrc1GN",
        "outputId": "529e2753-6612-49a6-8ebe-44862f5cfd07"
      },
      "execution_count": 4,
      "outputs": [
        {
          "output_type": "execute_result",
          "data": {
            "text/plain": [
              "{'Name': 'Johnny', 'Age': 32, 'salary': 26000, 'Company': 'TCS'}"
            ]
          },
          "metadata": {},
          "execution_count": 4
        }
      ]
    },
    {
      "cell_type": "code",
      "source": [
        "# @title Dictionary Example\n",
        "word_count={}\n",
        "word = \"Adventure\"\n",
        "for i in word:\n",
        "  word_count[i] = word_count.get(i,0)+1\n",
        "print(word_count)"
      ],
      "metadata": {
        "colab": {
          "base_uri": "https://localhost:8080/"
        },
        "cellView": "form",
        "id": "sjXImHKsdO26",
        "outputId": "25aad545-8721-4537-cc7b-de206fdbc0b9"
      },
      "execution_count": 3,
      "outputs": [
        {
          "output_type": "stream",
          "name": "stdout",
          "text": [
            "{'A': 1, 'd': 1, 'v': 1, 'e': 2, 'n': 1, 't': 1, 'u': 1, 'r': 1}\n"
          ]
        }
      ]
    },
    {
      "cell_type": "markdown",
      "source": [
        "### Python Sets"
      ],
      "metadata": {
        "id": "XZYBIFRkUTdJ"
      }
    },
    {
      "cell_type": "code",
      "source": [
        "# @title Set Definition\n",
        "Days = {\"Monday\", \"Tuesday\", \"Wednesday\", \"Thursday\", \"Friday\", \"Saturday\", \"Sunday\"}\n",
        "print(Days)"
      ],
      "metadata": {
        "id": "3ybdcOSApJhM",
        "colab": {
          "base_uri": "https://localhost:8080/"
        },
        "cellView": "form",
        "outputId": "ce286c87-3f97-409a-c375-5c091ae0a523"
      },
      "execution_count": 13,
      "outputs": [
        {
          "output_type": "stream",
          "name": "stdout",
          "text": [
            "{'Wednesday', 'Thursday', 'Monday', 'Friday', 'Tuesday', 'Saturday', 'Sunday'}\n"
          ]
        }
      ]
    },
    {
      "cell_type": "code",
      "source": [
        "# @title Set Example\n",
        "Days = set([\"M\", \"T\", \"W\", \"S\", \"F\", \"T\", \"S\"])\n",
        "print(Days)"
      ],
      "metadata": {
        "id": "vq1JeyfQpZmF",
        "colab": {
          "base_uri": "https://localhost:8080/"
        },
        "cellView": "form",
        "outputId": "e2a166e8-15d0-49d9-f727-543d10b18556"
      },
      "execution_count": 14,
      "outputs": [
        {
          "output_type": "stream",
          "name": "stdout",
          "text": [
            "{'S', 'M', 'W', 'F', 'T'}\n"
          ]
        }
      ]
    }
  ]
}