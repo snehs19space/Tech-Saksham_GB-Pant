{
  "nbformat": 4,
  "nbformat_minor": 0,
  "metadata": {
    "colab": {
      "provenance": [],
      "authorship_tag": "ABX9TyN07yG1smGdX1CWBFsDVWle",
      "include_colab_link": true
    },
    "kernelspec": {
      "name": "python3",
      "display_name": "Python 3"
    },
    "language_info": {
      "name": "python"
    }
  },
  "cells": [
    {
      "cell_type": "markdown",
      "metadata": {
        "id": "view-in-github",
        "colab_type": "text"
      },
      "source": [
        "<a href=\"https://colab.research.google.com/github/snehs19space/Tech-Saksham_GB-Pant/blob/main/Day7.ipynb\" target=\"_parent\"><img src=\"https://colab.research.google.com/assets/colab-badge.svg\" alt=\"Open In Colab\"/></a>"
      ]
    },
    {
      "cell_type": "markdown",
      "source": [
        "### Exception Handling"
      ],
      "metadata": {
        "id": "0eWkwpL0pjAq"
      }
    },
    {
      "cell_type": "code",
      "source": [
        "# @title Exception Raised in Python\n",
        "try:\n",
        "  marks = 10000\n",
        "  a = marks / 0\n",
        "  print(a)\n",
        "except Exception as e:\n",
        "  print(\"The exception occured is :\", e)"
      ],
      "metadata": {
        "colab": {
          "base_uri": "https://localhost:8080/"
        },
        "cellView": "form",
        "id": "7YsuhyH9pp7Y",
        "outputId": "ee4f0d94-c7d1-43e0-8da8-24e4fbd48611"
      },
      "execution_count": 82,
      "outputs": [
        {
          "output_type": "stream",
          "name": "stdout",
          "text": [
            "The exception occured is : division by zero\n"
          ]
        }
      ]
    },
    {
      "cell_type": "code",
      "source": [
        "# @title try and except Statement – Catching Exceptions\n",
        "a = [1, 2, 3]\n",
        "try:\n",
        "\tprint (\"Second element = %d\" %(a[1]))\n",
        "\tprint (\"Fourth element = %d\" %(a[3]))\n",
        "except Exception as e:\n",
        "\tprint (\"An error occurred\", e)"
      ],
      "metadata": {
        "colab": {
          "base_uri": "https://localhost:8080/"
        },
        "cellView": "form",
        "id": "McxJyHx8puGc",
        "outputId": "b79001c8-81c5-45d6-e64d-49bbee242390"
      },
      "execution_count": 83,
      "outputs": [
        {
          "output_type": "stream",
          "name": "stdout",
          "text": [
            "Second element = 2\n",
            "An error occurred list index out of range\n"
          ]
        }
      ]
    },
    {
      "cell_type": "code",
      "source": [
        "# @title try with else Statement\n",
        "try:\n",
        "    num = int(input(\"Enter a number: \"))\n",
        "    assert num % 2 == 0\n",
        "except:\n",
        "    print(\"Not an even number!\")\n",
        "else:\n",
        "    reciprocal = 1/num\n",
        "    print(reciprocal)"
      ],
      "metadata": {
        "colab": {
          "base_uri": "https://localhost:8080/"
        },
        "cellView": "form",
        "id": "88P1XE3upuQA",
        "outputId": "15448b0b-ffce-4226-b822-2fe7ecff27f9"
      },
      "execution_count": 84,
      "outputs": [
        {
          "output_type": "stream",
          "name": "stdout",
          "text": [
            "Enter a number: 7\n",
            "Not an even number!\n"
          ]
        }
      ]
    },
    {
      "cell_type": "code",
      "source": [
        "# @title try with finally Statement\n",
        "try:\n",
        "    numerator = 10\n",
        "    denominator = 0\n",
        "    result = numerator/denominator\n",
        "    print(result)\n",
        "\n",
        "except:\n",
        "    print(\"Error: Denominator cannot be 0.\")\n",
        "\n",
        "finally:\n",
        "    print(\"This is finally block.\")"
      ],
      "metadata": {
        "colab": {
          "base_uri": "https://localhost:8080/"
        },
        "cellView": "form",
        "id": "CYbMqxpipuYu",
        "outputId": "96fa607a-9b24-435e-88eb-cef580d9526f"
      },
      "execution_count": 85,
      "outputs": [
        {
          "output_type": "stream",
          "name": "stdout",
          "text": [
            "Error: Denominator cannot be 0.\n",
            "This is finally block.\n"
          ]
        }
      ]
    },
    {
      "cell_type": "markdown",
      "source": [
        "### File Handling"
      ],
      "metadata": {
        "id": "gd1d0jY0gspd"
      }
    },
    {
      "cell_type": "code",
      "execution_count": 65,
      "metadata": {
        "cellView": "form",
        "id": "9c3NUr8aFqb1"
      },
      "outputs": [],
      "source": [
        "# @title Opening File\n",
        "fp = open(\"test.txt\", 'r')"
      ]
    },
    {
      "cell_type": "code",
      "execution_count": 66,
      "metadata": {
        "colab": {
          "base_uri": "https://localhost:8080/"
        },
        "cellView": "form",
        "id": "sQLi3pX8g1vw",
        "outputId": "fbee352a-8e3e-4118-b7f5-944c0fe0fabd"
      },
      "outputs": [
        {
          "output_type": "stream",
          "name": "stdout",
          "text": [
            "Welcome to the Edunet Foundation.\n",
            "Great learning! \n",
            "I am delighted to help you.\n",
            "Hello I am Sanvi Sneh\n",
            "This is appended text.\n",
            "Hello I am Sofia\n",
            "This is appended text.\n"
          ]
        }
      ],
      "source": [
        "# @title Reading File using read()\n",
        "# Reading 10 characters from file\n",
        "print(fp.read())\n",
        "fp.close()"
      ]
    },
    {
      "cell_type": "code",
      "source": [
        "# @title Reading File using readline()\n",
        "fp = open(\"test.txt\", 'r')\n",
        "print(fp.readline())\n",
        "fp.close()"
      ],
      "metadata": {
        "colab": {
          "base_uri": "https://localhost:8080/"
        },
        "cellView": "form",
        "id": "pqmH0YBGjVUp",
        "outputId": "f2b6f0e8-9009-433b-c264-7eb243e7d49b"
      },
      "execution_count": 67,
      "outputs": [
        {
          "output_type": "stream",
          "name": "stdout",
          "text": [
            "Welcome to the Edunet Foundation.\n",
            "\n"
          ]
        }
      ]
    },
    {
      "cell_type": "code",
      "source": [
        "# @title Reading File using readlines()\n",
        "fp = open(\"test.txt\", 'r')\n",
        "print(fp.readlines())\n",
        "fp.close()"
      ],
      "metadata": {
        "colab": {
          "base_uri": "https://localhost:8080/"
        },
        "cellView": "form",
        "id": "degn-dQljhaJ",
        "outputId": "f6cfa1bb-7304-48a7-f0ef-436338f692f8"
      },
      "execution_count": 68,
      "outputs": [
        {
          "output_type": "stream",
          "name": "stdout",
          "text": [
            "['Welcome to the Edunet Foundation.\\n', 'Great learning! \\n', 'I am delighted to help you.\\n', 'Hello I am Sanvi Sneh\\n', 'This is appended text.\\n', 'Hello I am Sofia\\n', 'This is appended text.']\n"
          ]
        }
      ]
    },
    {
      "cell_type": "code",
      "execution_count": 72,
      "metadata": {
        "colab": {
          "base_uri": "https://localhost:8080/"
        },
        "cellView": "form",
        "id": "3hJ9sHP9g27J",
        "outputId": "b558c5fe-267f-4f03-a170-4eff34f43cf0"
      },
      "outputs": [
        {
          "output_type": "stream",
          "name": "stdout",
          "text": [
            "Enter your name : Don\n",
            "Written sucessfully in file.\n"
          ]
        }
      ],
      "source": [
        "# @title Appending in File\n",
        "fp = open(\"test.txt\", 'a')\n",
        "name = input(\"Enter your name : \")\n",
        "fp.write(\"\\nHello I am \"+str(name))\n",
        "print(\"Written sucessfully in file.\")\n",
        "fp.close()"
      ]
    },
    {
      "cell_type": "code",
      "execution_count": 70,
      "metadata": {
        "colab": {
          "base_uri": "https://localhost:8080/"
        },
        "cellView": "form",
        "id": "TOBEdlNng1z_",
        "outputId": "46c8ea47-d1b3-4ce2-aaa9-4fd1d0175677"
      },
      "outputs": [
        {
          "output_type": "stream",
          "name": "stdout",
          "text": [
            "Written sucessfully in file.\n"
          ]
        }
      ],
      "source": [
        "# @title Writing in File\n",
        "f = open(\"test1.txt\", 'a')\n",
        "f.write(\"\\nThis is appended text.\")\n",
        "print(\"Written sucessfully in file.\")"
      ]
    },
    {
      "cell_type": "code",
      "execution_count": 71,
      "metadata": {
        "cellView": "form",
        "id": "tbBCDoAgg2Cb"
      },
      "outputs": [],
      "source": [
        "# @title Closing File\n",
        "fp.close()"
      ]
    }
  ]
}